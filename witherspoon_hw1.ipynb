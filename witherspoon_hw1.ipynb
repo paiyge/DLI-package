{
  "nbformat": 4,
  "nbformat_minor": 0,
  "metadata": {
    "colab": {
      "provenance": [],
      "authorship_tag": "ABX9TyMAlCDrWN2XMG97EXTLvBI2",
      "include_colab_link": true
    },
    "kernelspec": {
      "name": "python3",
      "display_name": "Python 3"
    },
    "language_info": {
      "name": "python"
    }
  },
  "cells": [
    {
      "cell_type": "markdown",
      "metadata": {
        "id": "view-in-github",
        "colab_type": "text"
      },
      "source": [
        "<a href=\"https://colab.research.google.com/github/paiyge/DS-5010-Project/blob/main/witherspoon_hw1.ipynb\" target=\"_parent\"><img src=\"https://colab.research.google.com/assets/colab-badge.svg\" alt=\"Open In Colab\"/></a>"
      ]
    },
    {
      "cell_type": "code",
      "source": [
        "import Aminer as amn\n",
        "import pandas as pd\n",
        "from keras.datasets import mnist\n",
        "from sklearn.datasets import fetch_20newsgroups\n",
        "import sklearn\n",
        "from scipy import sparse\n",
        "import numpy as np\n",
        "import scipy.spatial\n",
        "\n",
        "#make sub table but can't call columns in that table???\n",
        "\n",
        "#1.A\n",
        "print(\"1.A\")\n",
        "print(\"author count: \",amn.df_auth['Author'].nunique())\n",
        "print(\"Venue count: \",amn.df['Venue'].nunique())\n",
        "print(\"publications count: \",amn.df['Title'].nunique())\n",
        "print(\"citations count: \",amn.df_ref['ref'].nunique())"
      ],
      "metadata": {
        "id": "c0X_tyAnZOpC"
      },
      "execution_count": null,
      "outputs": []
    },
    {
      "cell_type": "code",
      "source": [
        "#1.B\n",
        "print(\"1.B\")\n",
        "print(\"They aren't actually articals. They are summaries and reports. Therefore these reports are likely not accurate\")\n",
        "amn.df.loc[amn.df['Aubstract'].str.contains('Principles and Practice of Knowledge Discovery in Databases', na=False)]\n"
      ],
      "metadata": {
        "id": "ZJfXaRxdZQHB"
      },
      "execution_count": null,
      "outputs": []
    },
    {
      "cell_type": "code",
      "source": [
        "#1.C\n",
        "print(\"1.C\")\n",
        "a_count = amn.df_auth.groupby(['Author']).count()\n",
        "a_count.plot.hist(column=['Title'], log=True)\n",
        "grouped_df_auth = amn.df_auth.groupby(['Title'])\n",
        "grouped_df_auth.aggregate(np.sum)"
      ],
      "metadata": {
        "id": "5naRbMCqZQPX"
      },
      "execution_count": null,
      "outputs": []
    },
    {
      "cell_type": "code",
      "source": [
        "#1.D\n",
        "print(\"1.D\")\n",
        "a_count['Title'].describe()\n",
        "print('The mean shows 2.8 while the median shows 1. This tells us that the data is skewed.')\n",
        "print('this is also reflected in the Q3 being 2 while Q1=Q2 as well as the std being large.')"
      ],
      "metadata": {
        "id": "8w94KkXeZf8M"
      },
      "execution_count": null,
      "outputs": []
    },
    {
      "cell_type": "code",
      "source": [
        "#1.E\n",
        "print(\"1.E\")\n",
        "p_count1 = amn.df_ref.groupby(['Venue']).count()\n",
        "p_count['Title'].describe()\n",
        "p_count = p_count1[p_count1['Title'] < 100]\n",
        "p_count.plot.hist(column=['Title'])\n",
        "p_count1[p_count1['Title'] > 72000]\n",
        "print(\"Expert Systems with Applications: An International Journal with 90,000 publications\")"
      ],
      "metadata": {
        "id": "Dy9isKxOZikk"
      },
      "execution_count": null,
      "outputs": []
    },
    {
      "cell_type": "code",
      "source": [
        "#1.F\n",
        "print(\"1.F\")\n",
        "r_count = amn.df_ref.groupby(['ref']).count()\n",
        "r_count = r_count.iloc[:,0:1]\n",
        "test=pd.merge(amn.df_ref,r_count, how='left', left_on = ['Id'], right_on=['ref'])\n",
        "pr_count = test.groupby(['Venue']).count()\n",
        "pr_count.plot.hist(column=['Title_y'])\n",
        "pr_count.plot.hist(column=['ref'])\n",
        "pr_count[pr_count['ref'] > 90000]\n",
        "print('Expert Systems with Applications: An International Journal with 90,862 citations')\n",
        "print('Expert Systems with Applications: An International Journal with 67,000 referances')"
      ],
      "metadata": {
        "id": "uBW24VypZkto"
      },
      "execution_count": null,
      "outputs": []
    },
    {
      "cell_type": "code",
      "source": [
        "#1.G\n",
        "print(\"1.G\")\n",
        "pr_count['impact'] = (pr_count['Title_y'] / pr_count['Title_x'])\n",
        "pr_count.plot.hist(column=['impact'])"
      ],
      "metadata": {
        "id": "umS5X-80ZnOO"
      },
      "execution_count": null,
      "outputs": []
    },
    {
      "cell_type": "code",
      "source": [
        "#1.H\n",
        "print(\"1.H\")\n",
        "print(pr_count.sort_values(by='impact'))\n",
        "#print(pr_count[pr_count['impact'] > 1])\n",
        "print(\"“Virtual fixtures”: perceptual overlays enhance has the greatest impact\")\n",
        "print('I do not belive this number as This calculation does not account for recent years.')"
      ],
      "metadata": {
        "id": "RODoEYc3Zpv4"
      },
      "execution_count": null,
      "outputs": []
    },
    {
      "cell_type": "code",
      "source": [
        "#1.I\n",
        "print(\"1.I\")\n",
        "print(\"the histogram flattens out. But is still skewed. THe median is more representative\")\n",
        "print('of the typical value rather than the mean due to the skew')\n",
        "pub_count = amn.df_auth.groupby(['Venue']).count()\n",
        "grouped_df_auth = grouped_df_auth[grouped_df_auth['Title'] >= 10]\n",
        "pub_count = amn.df_auth.groupby(['Author']).count()\n",
        "pub_count.plot.hist(column=['Title'], log=True)\n",
        "grouped_df_auth = amn.df_auth.groupby(['Title'])\n",
        "grouped_df_auth.aggregate(np.sum)"
      ],
      "metadata": {
        "id": "Imbdv5xsZspB"
      },
      "execution_count": null,
      "outputs": []
    },
    {
      "cell_type": "code",
      "source": [
        "#1.J\n",
        "#test=pd.merge(amn.df_ref,r_count, how='left', left_on = ['Id'], right_on=['ref'])\n",
        "print(\"1.J\")\n",
        "#test = test.groupby(['year']).count()\n",
        "#test=test.reset_index()\n",
        "#test['year']=test['year'].astype(str).astype(int)\n",
        "av_ven = test.groupby(['year']).count()\n",
        "av_ven = av_ven.reset_index()\n",
        "av_ven['j'] = av_ven['ref']/av_ven['Venue']\n",
        "av_ven['i'] = av_ven['Title_y']/av_ven['Venue']\n",
        "#test\n",
        "av_ven.plot.line(x= 'year',y='j')\n",
        "#test.iloc[:,0:1]\n",
        "av_ven.plot.line(x='year', y= 'i')"
      ],
      "metadata": {
        "id": "xBnNW2G7Zvf4"
      },
      "execution_count": null,
      "outputs": []
    },
    {
      "cell_type": "code",
      "source": [
        "# PROBLEM 2:\n",
        "\n",
        "#2.A\n",
        "#INSERT CODE HERE\n",
        "\n",
        "#2.B\n",
        "print(\"about 9 seconds.\")\n",
        "\n",
        "#2.C\n",
        "# TIME TO LOAD DATA INTO PROGRAM\n",
        "\n",
        "#2.D\n",
        "#unfinished\n",
        "\n",
        "#2.E\n",
        "#unfinished"
      ],
      "metadata": {
        "id": "Et6NsgxiZzaT"
      },
      "execution_count": null,
      "outputs": []
    },
    {
      "cell_type": "code",
      "source": [
        "#PROBLEM 3 20 News:\n",
        "train_20 = sklearn.datasets.fetch_20newsgroups_vectorized(subset='train', return_X_y= True)\n",
        "#train_20_a = np.array(train_20.data)\n",
        "y_20_train = train_20[1]\n",
        "x_20_train = train_20[0]\n",
        "\n",
        "#train_20 = sparse.csr_matrix(x_20_train)\n",
        "train_20_a = []\n",
        "for i in x_20_train:\n",
        "  #print(np.asarray(i))\n",
        "  train_20_a.append(np.asarray(i))\n",
        "\n",
        "\n",
        "train_20_a_cos = scipy.spatial.distance.cdist(train_20_a,train_20_a,metric= 'cosine')\n",
        "print(\"cos result:\", train_20_a_cos)"
      ],
      "metadata": {
        "id": "8PVHIHHeglvh"
      },
      "execution_count": null,
      "outputs": []
    },
    {
      "cell_type": "code",
      "source": [
        "#PROBLEM 3 mnist:\n",
        "(test_x,test_y), (train_x, train_y) = mnist.load_data()\n",
        "\n",
        "#400 test\n",
        "test_x = test_x[0:400]\n",
        "test_y = test_y[0:400]\n",
        "#2400 train\n",
        "train_x = train_x[0:2400]\n",
        "train_y = train_y[0:2400]\n",
        "\n",
        "flat_tes_x = []\n",
        "for i in test_x:\n",
        "  #i=i.flatten()\n",
        "  flat_tes_x.append(i.flatten())\n",
        "\n",
        "calc_cos = scipy.spatial.distance.cdist(flat_tes_x,flat_tes_x,metric= 'cosine')\n",
        "print(\"cos result:\", calc_cos)\n",
        "\n",
        "eucl_cos = scipy.spatial.distance.cdist(flat_tes_x,flat_tes_x,metric= 'euclidean')\n",
        "print(\"euclidean result:\", eucl_cos)\n",
        "\n",
        "hamm_cos = scipy.spatial.distance.cdist(flat_tes_x,flat_tes_x,metric= 'hamming')\n",
        "print(\"hamming result:\", hamm_cos)\n",
        "\n",
        "jacc_cos = scipy.spatial.distance.cdist(flat_tes_x,flat_tes_x,metric= 'jaccard')\n",
        "print(\"jaccard result:\", jacc_cos)\n",
        "\n",
        "cit_cos = scipy.spatial.distance.cdist(flat_tes_x,flat_tes_x,metric= 'cityblock')\n",
        "print(\"Manhatain result:\", cit_cos)"
      ],
      "metadata": {
        "colab": {
          "base_uri": "https://localhost:8080/"
        },
        "id": "EyB2KHlSF17i",
        "outputId": "a7057f7b-50dd-4dfd-c647-46ef22ad9587"
      },
      "execution_count": null,
      "outputs": [
        {
          "output_type": "stream",
          "name": "stdout",
          "text": [
            "cos result: [[0.00000000e+00 4.47899811e-01 7.80171516e-01 ... 6.71830196e-01\n",
            "  6.24521195e-01 4.39406202e-01]\n",
            " [4.47899811e-01 0.00000000e+00 7.84290664e-01 ... 6.86096293e-01\n",
            "  7.36311339e-01 1.53318089e-01]\n",
            " [7.80171516e-01 7.84290664e-01 1.11022302e-16 ... 9.00378503e-01\n",
            "  9.25422039e-01 6.95233041e-01]\n",
            " ...\n",
            " [6.71830196e-01 6.86096293e-01 9.00378503e-01 ... 0.00000000e+00\n",
            "  7.14598513e-01 7.13977335e-01]\n",
            " [6.24521195e-01 7.36311339e-01 9.25422039e-01 ... 7.14598513e-01\n",
            "  0.00000000e+00 6.77055109e-01]\n",
            " [4.39406202e-01 1.53318089e-01 6.95233041e-01 ... 7.13977335e-01\n",
            "  6.77055109e-01 0.00000000e+00]]\n",
            "euclidean result: [[   0.         2387.11164381 2773.14911247 ... 2550.32272468\n",
            "  2343.52277565 2737.6486261 ]\n",
            " [2387.11164381    0.         2898.93290712 ... 2693.46208438\n",
            "  2647.74564488 1715.77737484]\n",
            " [2773.14911247 2898.93290712    0.         ... 2590.48605478\n",
            "  2402.6071256  3216.88234165]\n",
            " ...\n",
            " [2550.32272468 2693.46208438 2590.48605478 ...    0.\n",
            "  2073.94575628 3232.86529258]\n",
            " [2343.52277565 2647.74564488 2402.6071256  ... 2073.94575628\n",
            "     0.         3084.58538543]\n",
            " [2737.6486261  1715.77737484 3216.88234165 ... 3232.86529258\n",
            "  3084.58538543    0.        ]]\n",
            "hamming result: [[0.         0.30102041 0.31377551 ... 0.26020408 0.22959184 0.33673469]\n",
            " [0.30102041 0.         0.32653061 ... 0.27806122 0.26403061 0.29846939]\n",
            " [0.31377551 0.32653061 0.         ... 0.25       0.22576531 0.37882653]\n",
            " ...\n",
            " [0.26020408 0.27806122 0.25       ... 0.         0.16836735 0.34438776]\n",
            " [0.22959184 0.26403061 0.22576531 ... 0.16836735 0.         0.32142857]\n",
            " [0.33673469 0.29846939 0.37882653 ... 0.34438776 0.32142857 0.        ]]\n",
            "jaccard result: [[0.         0.97119342 1.         ... 0.98550725 0.97826087 0.91034483]\n",
            " [0.97119342 0.         1.         ... 0.98642534 1.         0.95121951]\n",
            " [1.         1.         0.         ... 1.         1.         0.9966443 ]\n",
            " ...\n",
            " [0.98550725 0.98642534 1.         ... 0.         0.98507463 0.99264706]\n",
            " [0.97826087 1.         1.         ... 0.98507463 0.         0.984375  ]\n",
            " [0.91034483 0.95121951 0.9966443  ... 0.99264706 0.984375   0.        ]]\n",
            "Manhatain result: [[    0. 29506. 37868. ... 31388. 27075. 37556.]\n",
            " [29506.     0. 41034. ... 34654. 33541. 18930.]\n",
            " [37868. 41034.     0. ... 32728. 28953. 48980.]\n",
            " ...\n",
            " [31388. 34654. 32728. ...     0. 21013. 47508.]\n",
            " [27075. 33541. 28953. ... 21013.     0. 43715.]\n",
            " [37556. 18930. 48980. ... 47508. 43715.     0.]]\n"
          ]
        }
      ]
    },
    {
      "cell_type": "code",
      "source": [
        "# PROBLEM 4 Mnist:\n",
        "import matplotlib.pyplot as plt\n",
        "\n"
      ],
      "metadata": {
        "id": "cEecrD1unt0M"
      },
      "execution_count": null,
      "outputs": []
    }
  ]
}