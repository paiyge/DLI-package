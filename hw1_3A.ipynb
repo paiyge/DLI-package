{
  "nbformat": 4,
  "nbformat_minor": 0,
  "metadata": {
    "colab": {
      "provenance": [],
      "authorship_tag": "ABX9TyML8nso7pBE/mYX8pDhhc5Y",
      "include_colab_link": true
    },
    "kernelspec": {
      "name": "python3",
      "display_name": "Python 3"
    },
    "language_info": {
      "name": "python"
    }
  },
  "cells": [
    {
      "cell_type": "markdown",
      "metadata": {
        "id": "view-in-github",
        "colab_type": "text"
      },
      "source": [
        "<a href=\"https://colab.research.google.com/github/paiyge/DS-5010-Project/blob/main/hw1_3A.ipynb\" target=\"_parent\"><img src=\"https://colab.research.google.com/assets/colab-badge.svg\" alt=\"Open In Colab\"/></a>"
      ]
    },
    {
      "cell_type": "code",
      "source": [
        "import keras\n",
        "import numpy as np\n",
        "import pandas as pd\n",
        "\n",
        "(test_x,test_y), (train_x, train_y) = mnist.load_data()\n",
        "\n",
        "flat_tes_x = []\n",
        "for i in test_x[0:10]:\n",
        "  #i=i.flatten()\n",
        "  flat_tes_x.append(i.flatten())\n",
        "calc_cos = scipy.spatial.distance.cdist(flat_tes_x,flat_tes_x,metric= 'cosine')\n",
        "print(\"cos result:\", calc_cos)\n",
        "\n",
        "eucl_cos = scipy.spatial.distance.cdist(flat_tes_x,flat_tes_x,metric= 'euclidean')\n",
        "print(\"euclidean result:\", eucl_cos)\n",
        "\n",
        "hamm_cos = scipy.spatial.distance.cdist(flat_tes_x,flat_tes_x,metric= 'hamming')\n",
        "print(\"hamming result:\", hamm_cos)\n",
        "\n",
        "jacc_cos = scipy.spatial.distance.cdist(flat_tes_x,flat_tes_x,metric= 'jaccard')\n",
        "print(\"jaccard result:\", jacc_cos)\n",
        "\n",
        "#Do we don't have to do manhattain?????\n"
      ],
      "metadata": {
        "colab": {
          "base_uri": "https://localhost:8080/"
        },
        "id": "8PVHIHHeglvh",
        "outputId": "9d091581-3dac-40fe-e8ab-6093ade8db10"
      },
      "execution_count": 64,
      "outputs": [
        {
          "output_type": "stream",
          "name": "stdout",
          "text": [
            "[[0.00000000e+00 4.47899811e-01 7.80171516e-01 6.62006531e-01\n",
            "  6.50203676e-01 5.45745471e-01 5.82625506e-01 3.30631464e-01\n",
            "  6.47232038e-01 6.21808728e-01]\n",
            " [4.47899811e-01 0.00000000e+00 7.84290664e-01 7.14169810e-01\n",
            "  5.89139851e-01 5.50298604e-01 7.47987443e-01 4.55748574e-01\n",
            "  7.87444546e-01 6.69984938e-01]\n",
            " [7.80171516e-01 7.84290664e-01 1.11022302e-16 8.64265829e-01\n",
            "  7.37958865e-01 6.75678575e-01 8.54197339e-01 5.60182399e-01\n",
            "  9.25546153e-01 5.53958926e-01]\n",
            " [6.62006531e-01 7.14169810e-01 8.64265829e-01 0.00000000e+00\n",
            "  6.43418283e-01 6.21374543e-01 7.10223171e-01 5.45604070e-01\n",
            "  7.49574053e-01 6.80839373e-01]\n",
            " [6.50203676e-01 5.89139851e-01 7.37958865e-01 6.43418283e-01\n",
            "  2.22044605e-16 4.61788032e-01 5.32891844e-01 5.21861728e-01\n",
            "  4.95013682e-01 5.58440044e-01]\n",
            " [5.45745471e-01 5.50298604e-01 6.75678575e-01 6.21374543e-01\n",
            "  4.61788032e-01 0.00000000e+00 6.58365617e-01 4.30808270e-01\n",
            "  6.79966429e-01 4.94624329e-01]\n",
            " [5.82625506e-01 7.47987443e-01 8.54197339e-01 7.10223171e-01\n",
            "  5.32891844e-01 6.58365617e-01 1.11022302e-16 6.12044259e-01\n",
            "  1.83533218e-01 6.85176358e-01]\n",
            " [3.30631464e-01 4.55748574e-01 5.60182399e-01 5.45604070e-01\n",
            "  5.21861728e-01 4.30808270e-01 6.12044259e-01 1.11022302e-16\n",
            "  6.89695390e-01 5.18187198e-01]\n",
            " [6.47232038e-01 7.87444546e-01 9.25546153e-01 7.49574053e-01\n",
            "  4.95013682e-01 6.79966429e-01 1.83533218e-01 6.89695390e-01\n",
            "  0.00000000e+00 7.16039160e-01]\n",
            " [6.21808728e-01 6.69984938e-01 5.53958926e-01 6.80839373e-01\n",
            "  5.58440044e-01 4.94624329e-01 6.85176358e-01 5.18187198e-01\n",
            "  7.16039160e-01 0.00000000e+00]]\n"
          ]
        }
      ]
    }
  ]
}