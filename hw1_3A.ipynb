{
  "nbformat": 4,
  "nbformat_minor": 0,
  "metadata": {
    "colab": {
      "provenance": [],
      "authorship_tag": "ABX9TyMORQE+bUUqOY2Kx4a0grB1",
      "include_colab_link": true
    },
    "kernelspec": {
      "name": "python3",
      "display_name": "Python 3"
    },
    "language_info": {
      "name": "python"
    }
  },
  "cells": [
    {
      "cell_type": "markdown",
      "metadata": {
        "id": "view-in-github",
        "colab_type": "text"
      },
      "source": [
        "<a href=\"https://colab.research.google.com/github/paiyge/DS-5010-Project/blob/main/hw1_3A.ipynb\" target=\"_parent\"><img src=\"https://colab.research.google.com/assets/colab-badge.svg\" alt=\"Open In Colab\"/></a>"
      ]
    },
    {
      "cell_type": "code",
      "source": [
        "from keras.datasets import mnist\n",
        "from sklearn.datasets import fetch_20newsgroups\n",
        "import numpy as np\n",
        "import pandas as pd\n",
        "import scipy.spatial\n",
        "\n",
        "(test_x,test_y), (train_x, train_y) = mnist.load_data()\n",
        "\n",
        "newsgroups_train = fetch_20newsgroups(subset='train')\n",
        "x_20, y_20 = newsgroups_train.data, newsgroups_train.target\n",
        "print(np.array(newsgroups_train.target_names)[y_20])\n",
        "\n",
        "\n",
        "#400 test\n",
        "#2400 train\n",
        "\n",
        "\n",
        "'''\n",
        "flat_tes_x = []\n",
        "for i in test_x[0:400]:\n",
        "  #i=i.flatten()\n",
        "  flat_tes_x.append(i.flatten())\n",
        "\n",
        "calc_cos = scipy.spatial.distance.cdist(f_x,f_x,metric= 'cosine')\n",
        "print(\"cos result:\", calc_cos)\n",
        "\n",
        "eucl_cos = scipy.spatial.distance.cdist(f_x,f_x,metric= 'euclidean')\n",
        "print(\"euclidean result:\", eucl_cos)\n",
        "\n",
        "hamm_cos = scipy.spatial.distance.cdist(f_x,f_x,metric= 'hamming')\n",
        "print(\"hamming result:\", hamm_cos)\n",
        "\n",
        "jacc_cos = scipy.spatial.distance.cdist(f_x,f_x,metric= 'jaccard')\n",
        "print(\"jaccard result:\", jacc_cos)\n",
        "\n",
        "cit_cos = scipy.spatial.distance.cdist(f_x,f_x,metric= 'cityblock')\n",
        "print(\"Manhatain result:\", cit_cos)\n",
        "'''"
      ],
      "metadata": {
        "id": "8PVHIHHeglvh",
        "colab": {
          "base_uri": "https://localhost:8080/",
          "height": 261
        },
        "outputId": "89942c35-361f-41e5-acb7-5e7a3a67544c"
      },
      "execution_count": 12,
      "outputs": [
        {
          "output_type": "error",
          "ename": "IndexError",
          "evalue": "ignored",
          "traceback": [
            "\u001b[0;31m---------------------------------------------------------------------------\u001b[0m",
            "\u001b[0;31mIndexError\u001b[0m                                Traceback (most recent call last)",
            "\u001b[0;32m<ipython-input-12-b56abc489c7a>\u001b[0m in \u001b[0;36m<module>\u001b[0;34m\u001b[0m\n\u001b[1;32m      9\u001b[0m \u001b[0mnewsgroups_train\u001b[0m \u001b[0;34m=\u001b[0m \u001b[0mfetch_20newsgroups\u001b[0m\u001b[0;34m(\u001b[0m\u001b[0msubset\u001b[0m\u001b[0;34m=\u001b[0m\u001b[0;34m'train'\u001b[0m\u001b[0;34m)\u001b[0m\u001b[0;34m\u001b[0m\u001b[0;34m\u001b[0m\u001b[0m\n\u001b[1;32m     10\u001b[0m \u001b[0mx_20\u001b[0m\u001b[0;34m,\u001b[0m \u001b[0my_20\u001b[0m \u001b[0;34m=\u001b[0m \u001b[0mnewsgroups_train\u001b[0m\u001b[0;34m.\u001b[0m\u001b[0mdata\u001b[0m\u001b[0;34m,\u001b[0m \u001b[0mnewsgroups_train\u001b[0m\u001b[0;34m.\u001b[0m\u001b[0mtarget\u001b[0m\u001b[0;34m\u001b[0m\u001b[0;34m\u001b[0m\u001b[0m\n\u001b[0;32m---> 11\u001b[0;31m \u001b[0mprint\u001b[0m\u001b[0;34m(\u001b[0m\u001b[0mnp\u001b[0m\u001b[0;34m.\u001b[0m\u001b[0marray\u001b[0m\u001b[0;34m(\u001b[0m\u001b[0mnewsgroups_train\u001b[0m\u001b[0;34m.\u001b[0m\u001b[0mtarget_names\u001b[0m\u001b[0;34m)\u001b[0m\u001b[0;34m[\u001b[0m\u001b[0mx_20\u001b[0m\u001b[0;34m]\u001b[0m\u001b[0;34m)\u001b[0m\u001b[0;34m\u001b[0m\u001b[0;34m\u001b[0m\u001b[0m\n\u001b[0m\u001b[1;32m     12\u001b[0m \u001b[0;34m\u001b[0m\u001b[0m\n\u001b[1;32m     13\u001b[0m \u001b[0;34m\u001b[0m\u001b[0m\n",
            "\u001b[0;31mIndexError\u001b[0m: only integers, slices (`:`), ellipsis (`...`), numpy.newaxis (`None`) and integer or boolean arrays are valid indices"
          ]
        }
      ]
    }
  ]
}