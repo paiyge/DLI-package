{
  "nbformat": 4,
  "nbformat_minor": 0,
  "metadata": {
    "colab": {
      "provenance": [],
      "authorship_tag": "ABX9TyOnnBOuF+myrVhmG8cGWzln",
      "include_colab_link": true
    },
    "kernelspec": {
      "name": "python3",
      "display_name": "Python 3"
    },
    "language_info": {
      "name": "python"
    }
  },
  "cells": [
    {
      "cell_type": "markdown",
      "metadata": {
        "id": "view-in-github",
        "colab_type": "text"
      },
      "source": [
        "<a href=\"https://colab.research.google.com/github/paiyge/DS-5010-Project/blob/main/hw1_3A.ipynb\" target=\"_parent\"><img src=\"https://colab.research.google.com/assets/colab-badge.svg\" alt=\"Open In Colab\"/></a>"
      ]
    },
    {
      "cell_type": "code",
      "source": [
        "from keras.datasets import mnist\n",
        "from sklearn.datasets import fetch_20newsgroups\n",
        "import sklearn\n",
        "from scipy import sparse\n",
        "import numpy as np\n",
        "import pandas as pd\n",
        "import scipy.spatial\n",
        "\n",
        "\n",
        "(test_x,test_y), (train_x, train_y) = mnist.load_data()\n",
        "\n",
        "#PROBLEM 3 20 News:\n",
        "train_20 = sklearn.datasets.fetch_20newsgroups_vectorized(subset='train', return_X_y= True)\n",
        "#train_20_a = np.array(train_20.data)\n",
        "y_20_train = train_20[1]\n",
        "x_20_train = train_20[0]\n",
        "\n",
        "#train_20 = sparse.csr_matrix(x_20_train)\n",
        "train_20_a = []\n",
        "for i in x_20_train:\n",
        "  #print(np.asarray(i))\n",
        "  train_20_a.append(np.asarray(i))\n",
        "\n",
        "\n",
        "train_20_a_cos = scipy.spatial.distance.cdist(train_20_a,train_20_a,metric= 'cosine')\n",
        "print(\"cos result:\", train_20_a_cos)"
      ],
      "metadata": {
        "id": "8PVHIHHeglvh",
        "colab": {
          "base_uri": "https://localhost:8080/",
          "height": 351
        },
        "outputId": "fd56bc1f-cb16-4295-e123-96292a85026c"
      },
      "execution_count": 31,
      "outputs": [
        {
          "output_type": "error",
          "ename": "ValueError",
          "evalue": "ignored",
          "traceback": [
            "\u001b[0;31m---------------------------------------------------------------------------\u001b[0m",
            "\u001b[0;31mValueError\u001b[0m                                Traceback (most recent call last)",
            "\u001b[0;32m<ipython-input-31-f5ce9052753c>\u001b[0m in \u001b[0;36m<module>\u001b[0;34m\u001b[0m\n\u001b[1;32m     21\u001b[0m \u001b[0;34m\u001b[0m\u001b[0m\n\u001b[1;32m     22\u001b[0m \u001b[0;34m\u001b[0m\u001b[0m\n\u001b[0;32m---> 23\u001b[0;31m \u001b[0mtrain_20_a_cos\u001b[0m \u001b[0;34m=\u001b[0m \u001b[0mscipy\u001b[0m\u001b[0;34m.\u001b[0m\u001b[0mspatial\u001b[0m\u001b[0;34m.\u001b[0m\u001b[0mdistance\u001b[0m\u001b[0;34m.\u001b[0m\u001b[0mcdist\u001b[0m\u001b[0;34m(\u001b[0m\u001b[0mtrain_20_a\u001b[0m\u001b[0;34m,\u001b[0m\u001b[0mtrain_20_a\u001b[0m\u001b[0;34m,\u001b[0m\u001b[0mmetric\u001b[0m\u001b[0;34m=\u001b[0m \u001b[0;34m'cosine'\u001b[0m\u001b[0;34m)\u001b[0m\u001b[0;34m\u001b[0m\u001b[0;34m\u001b[0m\u001b[0m\n\u001b[0m\u001b[1;32m     24\u001b[0m \u001b[0mprint\u001b[0m\u001b[0;34m(\u001b[0m\u001b[0;34m\"cos result:\"\u001b[0m\u001b[0;34m,\u001b[0m \u001b[0mtrain_20_a_cos\u001b[0m\u001b[0;34m)\u001b[0m\u001b[0;34m\u001b[0m\u001b[0;34m\u001b[0m\u001b[0m\n",
            "\u001b[0;32m/usr/local/lib/python3.8/dist-packages/scipy/spatial/distance.py\u001b[0m in \u001b[0;36mcdist\u001b[0;34m(XA, XB, metric, out, **kwargs)\u001b[0m\n\u001b[1;32m   2929\u001b[0m \u001b[0;34m\u001b[0m\u001b[0m\n\u001b[1;32m   2930\u001b[0m     \u001b[0;32mif\u001b[0m \u001b[0mlen\u001b[0m\u001b[0;34m(\u001b[0m\u001b[0ms\u001b[0m\u001b[0;34m)\u001b[0m \u001b[0;34m!=\u001b[0m \u001b[0;36m2\u001b[0m\u001b[0;34m:\u001b[0m\u001b[0;34m\u001b[0m\u001b[0;34m\u001b[0m\u001b[0m\n\u001b[0;32m-> 2931\u001b[0;31m         \u001b[0;32mraise\u001b[0m \u001b[0mValueError\u001b[0m\u001b[0;34m(\u001b[0m\u001b[0;34m'XA must be a 2-dimensional array.'\u001b[0m\u001b[0;34m)\u001b[0m\u001b[0;34m\u001b[0m\u001b[0;34m\u001b[0m\u001b[0m\n\u001b[0m\u001b[1;32m   2932\u001b[0m     \u001b[0;32mif\u001b[0m \u001b[0mlen\u001b[0m\u001b[0;34m(\u001b[0m\u001b[0msB\u001b[0m\u001b[0;34m)\u001b[0m \u001b[0;34m!=\u001b[0m \u001b[0;36m2\u001b[0m\u001b[0;34m:\u001b[0m\u001b[0;34m\u001b[0m\u001b[0;34m\u001b[0m\u001b[0m\n\u001b[1;32m   2933\u001b[0m         \u001b[0;32mraise\u001b[0m \u001b[0mValueError\u001b[0m\u001b[0;34m(\u001b[0m\u001b[0;34m'XB must be a 2-dimensional array.'\u001b[0m\u001b[0;34m)\u001b[0m\u001b[0;34m\u001b[0m\u001b[0;34m\u001b[0m\u001b[0m\n",
            "\u001b[0;31mValueError\u001b[0m: XA must be a 2-dimensional array."
          ]
        }
      ]
    },
    {
      "cell_type": "code",
      "source": [
        "#PROBLEM 3 mnist:\n",
        "\n",
        "#400 test\n",
        "#2400 train\n",
        "\n",
        "flat_tes_x = []\n",
        "for i in test_x[0:400]:\n",
        "  #i=i.flatten()\n",
        "  flat_tes_x.append(i.flatten())\n",
        "\n",
        "calc_cos = scipy.spatial.distance.cdist(f_x,f_x,metric= 'cosine')\n",
        "print(\"cos result:\", calc_cos)\n",
        "\n",
        "eucl_cos = scipy.spatial.distance.cdist(f_x,f_x,metric= 'euclidean')\n",
        "print(\"euclidean result:\", eucl_cos)\n",
        "\n",
        "hamm_cos = scipy.spatial.distance.cdist(f_x,f_x,metric= 'hamming')\n",
        "print(\"hamming result:\", hamm_cos)\n",
        "\n",
        "jacc_cos = scipy.spatial.distance.cdist(f_x,f_x,metric= 'jaccard')\n",
        "print(\"jaccard result:\", jacc_cos)\n",
        "\n",
        "cit_cos = scipy.spatial.distance.cdist(f_x,f_x,metric= 'cityblock')\n",
        "print(\"Manhatain result:\", cit_cos)"
      ],
      "metadata": {
        "id": "EyB2KHlSF17i"
      },
      "execution_count": null,
      "outputs": []
    }
  ]
}