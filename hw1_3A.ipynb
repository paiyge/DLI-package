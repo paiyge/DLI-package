{
  "nbformat": 4,
  "nbformat_minor": 0,
  "metadata": {
    "colab": {
      "provenance": [],
      "authorship_tag": "ABX9TyPZnqZsHQKEQUUAe2D8bUFz",
      "include_colab_link": true
    },
    "kernelspec": {
      "name": "python3",
      "display_name": "Python 3"
    },
    "language_info": {
      "name": "python"
    }
  },
  "cells": [
    {
      "cell_type": "markdown",
      "metadata": {
        "id": "view-in-github",
        "colab_type": "text"
      },
      "source": [
        "<a href=\"https://colab.research.google.com/github/paiyge/DS-5010-Project/blob/main/hw1_3A.ipynb\" target=\"_parent\"><img src=\"https://colab.research.google.com/assets/colab-badge.svg\" alt=\"Open In Colab\"/></a>"
      ]
    },
    {
      "cell_type": "code",
      "source": [
        "from keras.datasets import mnist\n",
        "from sklearn.datasets import fetch_20newsgroups\n",
        "import numpy as np\n",
        "import pandas as pd\n",
        "import scipy.spatial\n",
        "\n",
        "(test_x,test_y), (train_x, train_y) = mnist.load_data()\n",
        "\n",
        "train_20 = sklearn.datasets.fetch_20newsgroups_vectorized(subset='train',normalize=True)\n",
        "print(type(train_20.data))\n"
      ],
      "metadata": {
        "id": "8PVHIHHeglvh",
        "colab": {
          "base_uri": "https://localhost:8080/"
        },
        "outputId": "e49dd460-5bbd-4cc0-d2e6-d7bfd45c63d7"
      },
      "execution_count": 47,
      "outputs": [
        {
          "output_type": "stream",
          "name": "stdout",
          "text": [
            "<class 'scipy.sparse.csr.csr_matrix'>\n"
          ]
        }
      ]
    },
    {
      "cell_type": "code",
      "source": [
        "#400 test\n",
        "#2400 train\n",
        "\n",
        "flat_tes_x = []\n",
        "for i in test_x[0:400]:\n",
        "  #i=i.flatten()\n",
        "  flat_tes_x.append(i.flatten())\n",
        "\n",
        "calc_cos = scipy.spatial.distance.cdist(f_x,f_x,metric= 'cosine')\n",
        "print(\"cos result:\", calc_cos)\n",
        "\n",
        "eucl_cos = scipy.spatial.distance.cdist(f_x,f_x,metric= 'euclidean')\n",
        "print(\"euclidean result:\", eucl_cos)\n",
        "\n",
        "hamm_cos = scipy.spatial.distance.cdist(f_x,f_x,metric= 'hamming')\n",
        "print(\"hamming result:\", hamm_cos)\n",
        "\n",
        "jacc_cos = scipy.spatial.distance.cdist(f_x,f_x,metric= 'jaccard')\n",
        "print(\"jaccard result:\", jacc_cos)\n",
        "\n",
        "cit_cos = scipy.spatial.distance.cdist(f_x,f_x,metric= 'cityblock')\n",
        "print(\"Manhatain result:\", cit_cos)"
      ],
      "metadata": {
        "id": "EyB2KHlSF17i"
      },
      "execution_count": null,
      "outputs": []
    }
  ]
}