{
  "nbformat": 4,
  "nbformat_minor": 0,
  "metadata": {
    "colab": {
      "provenance": [],
      "authorship_tag": "ABX9TyO+bwEiPWpvLJPcFigr19Ys",
      "include_colab_link": true
    },
    "kernelspec": {
      "name": "python3",
      "display_name": "Python 3"
    },
    "language_info": {
      "name": "python"
    }
  },
  "cells": [
    {
      "cell_type": "markdown",
      "metadata": {
        "id": "view-in-github",
        "colab_type": "text"
      },
      "source": [
        "<a href=\"https://colab.research.google.com/github/paiyge/DS-5010-Project/blob/main/hw1_3A.ipynb\" target=\"_parent\"><img src=\"https://colab.research.google.com/assets/colab-badge.svg\" alt=\"Open In Colab\"/></a>"
      ]
    },
    {
      "cell_type": "code",
      "source": [
        "import keras\n",
        "import numpy as np\n",
        "import pandas as pd\n",
        "\n",
        "(test_x,test_y), (train_x, train_y) = mnist.load_data()\n",
        "\n",
        "#400 test\n",
        "#2400 train\n",
        "\n",
        "flat_tes_x = []\n",
        "for i in test_x:\n",
        "  #i=i.flatten()\n",
        "  flat_tes_x.append(i.flatten())\n",
        "\n",
        "calc_cos = scipy.spatial.distance.cdist(flat_tes_x,flat_tes_x,metric= 'cosine')\n",
        "print(\"cos result:\", calc_cos)\n",
        "\n",
        "eucl_cos = scipy.spatial.distance.cdist(flat_tes_x,flat_tes_x,metric= 'euclidean')\n",
        "print(\"euclidean result:\", eucl_cos)\n",
        "\n",
        "hamm_cos = scipy.spatial.distance.cdist(flat_tes_x,flat_tes_x,metric= 'hamming')\n",
        "print(\"hamming result:\", hamm_cos)\n",
        "\n",
        "jacc_cos = scipy.spatial.distance.cdist(flat_tes_x,flat_tes_x,metric= 'jaccard')\n",
        "print(\"jaccard result:\", jacc_cos)\n",
        "\n",
        "cit_cos = scipy.spatial.distance.cdist(flat_tes_x,flat_tes_x,metric= 'cityblock')\n",
        "print(\"Manhatain result:\", cit_cos)"
      ],
      "metadata": {
        "id": "8PVHIHHeglvh"
      },
      "execution_count": null,
      "outputs": []
    }
  ]
}